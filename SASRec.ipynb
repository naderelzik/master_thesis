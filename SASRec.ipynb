{
  "cells": [
    {
      "cell_type": "markdown",
      "metadata": {
        "id": "view-in-github",
        "colab_type": "text"
      },
      "source": [
        "<a href=\"https://colab.research.google.com/github/naderelzik/master_thesis/blob/main/SASRec.ipynb\" target=\"_parent\"><img src=\"https://colab.research.google.com/assets/colab-badge.svg\" alt=\"Open In Colab\"/></a>"
      ]
    },
    {
      "cell_type": "code",
      "execution_count": 1,
      "metadata": {
        "colab": {
          "base_uri": "https://localhost:8080/"
        },
        "id": "pEYw8jfLfvxL",
        "outputId": "47f985d4-fd6b-43c7-e805-46929d3aa8be"
      },
      "outputs": [
        {
          "output_type": "stream",
          "name": "stdout",
          "text": [
            "Cloning into 'LinRec'...\n",
            "remote: Enumerating objects: 38, done.\u001b[K\n",
            "remote: Counting objects: 100% (38/38), done.\u001b[K\n",
            "remote: Compressing objects: 100% (36/36), done.\u001b[K\n",
            "remote: Total 38 (delta 18), reused 0 (delta 0), pack-reused 0 (from 0)\u001b[K\n",
            "Receiving objects: 100% (38/38), 23.09 KiB | 7.70 MiB/s, done.\n",
            "Resolving deltas: 100% (18/18), done.\n"
          ]
        }
      ],
      "source": [
        "!git clone https://github.com/Applied-Machine-Learning-Lab/LinRec.git"
      ]
    },
    {
      "cell_type": "code",
      "execution_count": 2,
      "metadata": {
        "colab": {
          "base_uri": "https://localhost:8080/"
        },
        "id": "vgFj-DDXf1bn",
        "outputId": "b12a2874-9ab6-4500-ff01-d4e39f442f63"
      },
      "outputs": [
        {
          "output_type": "stream",
          "name": "stdout",
          "text": [
            "Collecting recbole\n",
            "  Downloading recbole-1.2.0-py3-none-any.whl.metadata (1.4 kB)\n",
            "Requirement already satisfied: torch>=1.10.0 in /usr/local/lib/python3.10/dist-packages (from recbole) (2.4.1+cu121)\n",
            "Requirement already satisfied: numpy>=1.17.2 in /usr/local/lib/python3.10/dist-packages (from recbole) (1.26.4)\n",
            "Requirement already satisfied: scipy>=1.6.0 in /usr/local/lib/python3.10/dist-packages (from recbole) (1.13.1)\n",
            "Requirement already satisfied: pandas>=1.4.0 in /usr/local/lib/python3.10/dist-packages (from recbole) (2.1.4)\n",
            "Requirement already satisfied: tqdm>=4.48.2 in /usr/local/lib/python3.10/dist-packages (from recbole) (4.66.5)\n",
            "Collecting colorlog==4.7.2 (from recbole)\n",
            "  Downloading colorlog-4.7.2-py2.py3-none-any.whl.metadata (9.9 kB)\n",
            "Collecting colorama==0.4.4 (from recbole)\n",
            "  Downloading colorama-0.4.4-py2.py3-none-any.whl.metadata (14 kB)\n",
            "Requirement already satisfied: scikit-learn>=0.23.2 in /usr/local/lib/python3.10/dist-packages (from recbole) (1.3.2)\n",
            "Requirement already satisfied: pyyaml>=5.1.0 in /usr/local/lib/python3.10/dist-packages (from recbole) (6.0.2)\n",
            "Requirement already satisfied: tensorboard>=2.5.0 in /usr/local/lib/python3.10/dist-packages (from recbole) (2.17.0)\n",
            "Collecting thop>=0.1.1.post2207130030 (from recbole)\n",
            "  Downloading thop-0.1.1.post2209072238-py3-none-any.whl.metadata (2.7 kB)\n",
            "Requirement already satisfied: tabulate>=0.8.10 in /usr/local/lib/python3.10/dist-packages (from recbole) (0.9.0)\n",
            "Requirement already satisfied: plotly>=4.0.0 in /usr/local/lib/python3.10/dist-packages (from recbole) (5.15.0)\n",
            "Collecting texttable>=0.9.0 (from recbole)\n",
            "  Downloading texttable-1.7.0-py2.py3-none-any.whl.metadata (9.8 kB)\n",
            "Requirement already satisfied: python-dateutil>=2.8.2 in /usr/local/lib/python3.10/dist-packages (from pandas>=1.4.0->recbole) (2.8.2)\n",
            "Requirement already satisfied: pytz>=2020.1 in /usr/local/lib/python3.10/dist-packages (from pandas>=1.4.0->recbole) (2024.2)\n",
            "Requirement already satisfied: tzdata>=2022.1 in /usr/local/lib/python3.10/dist-packages (from pandas>=1.4.0->recbole) (2024.1)\n",
            "Requirement already satisfied: tenacity>=6.2.0 in /usr/local/lib/python3.10/dist-packages (from plotly>=4.0.0->recbole) (9.0.0)\n",
            "Requirement already satisfied: packaging in /usr/local/lib/python3.10/dist-packages (from plotly>=4.0.0->recbole) (24.1)\n",
            "Requirement already satisfied: joblib>=1.1.1 in /usr/local/lib/python3.10/dist-packages (from scikit-learn>=0.23.2->recbole) (1.4.2)\n",
            "Requirement already satisfied: threadpoolctl>=2.0.0 in /usr/local/lib/python3.10/dist-packages (from scikit-learn>=0.23.2->recbole) (3.5.0)\n",
            "Requirement already satisfied: absl-py>=0.4 in /usr/local/lib/python3.10/dist-packages (from tensorboard>=2.5.0->recbole) (1.4.0)\n",
            "Requirement already satisfied: grpcio>=1.48.2 in /usr/local/lib/python3.10/dist-packages (from tensorboard>=2.5.0->recbole) (1.64.1)\n",
            "Requirement already satisfied: markdown>=2.6.8 in /usr/local/lib/python3.10/dist-packages (from tensorboard>=2.5.0->recbole) (3.7)\n",
            "Requirement already satisfied: protobuf!=4.24.0,<5.0.0,>=3.19.6 in /usr/local/lib/python3.10/dist-packages (from tensorboard>=2.5.0->recbole) (3.20.3)\n",
            "Requirement already satisfied: setuptools>=41.0.0 in /usr/local/lib/python3.10/dist-packages (from tensorboard>=2.5.0->recbole) (71.0.4)\n",
            "Requirement already satisfied: six>1.9 in /usr/local/lib/python3.10/dist-packages (from tensorboard>=2.5.0->recbole) (1.16.0)\n",
            "Requirement already satisfied: tensorboard-data-server<0.8.0,>=0.7.0 in /usr/local/lib/python3.10/dist-packages (from tensorboard>=2.5.0->recbole) (0.7.2)\n",
            "Requirement already satisfied: werkzeug>=1.0.1 in /usr/local/lib/python3.10/dist-packages (from tensorboard>=2.5.0->recbole) (3.0.4)\n",
            "Requirement already satisfied: filelock in /usr/local/lib/python3.10/dist-packages (from torch>=1.10.0->recbole) (3.16.1)\n",
            "Requirement already satisfied: typing-extensions>=4.8.0 in /usr/local/lib/python3.10/dist-packages (from torch>=1.10.0->recbole) (4.12.2)\n",
            "Requirement already satisfied: sympy in /usr/local/lib/python3.10/dist-packages (from torch>=1.10.0->recbole) (1.13.2)\n",
            "Requirement already satisfied: networkx in /usr/local/lib/python3.10/dist-packages (from torch>=1.10.0->recbole) (3.3)\n",
            "Requirement already satisfied: jinja2 in /usr/local/lib/python3.10/dist-packages (from torch>=1.10.0->recbole) (3.1.4)\n",
            "Requirement already satisfied: fsspec in /usr/local/lib/python3.10/dist-packages (from torch>=1.10.0->recbole) (2024.6.1)\n",
            "Requirement already satisfied: MarkupSafe>=2.1.1 in /usr/local/lib/python3.10/dist-packages (from werkzeug>=1.0.1->tensorboard>=2.5.0->recbole) (2.1.5)\n",
            "Requirement already satisfied: mpmath<1.4,>=1.1.0 in /usr/local/lib/python3.10/dist-packages (from sympy->torch>=1.10.0->recbole) (1.3.0)\n",
            "Downloading recbole-1.2.0-py3-none-any.whl (2.1 MB)\n",
            "\u001b[2K   \u001b[90m━━━━━━━━━━━━━━━━━━━━━━━━━━━━━━━━━━━━━━━━\u001b[0m \u001b[32m2.1/2.1 MB\u001b[0m \u001b[31m32.0 MB/s\u001b[0m eta \u001b[36m0:00:00\u001b[0m\n",
            "\u001b[?25hDownloading colorama-0.4.4-py2.py3-none-any.whl (16 kB)\n",
            "Downloading colorlog-4.7.2-py2.py3-none-any.whl (10 kB)\n",
            "Downloading texttable-1.7.0-py2.py3-none-any.whl (10 kB)\n",
            "Downloading thop-0.1.1.post2209072238-py3-none-any.whl (15 kB)\n",
            "Installing collected packages: texttable, colorlog, colorama, thop, recbole\n",
            "Successfully installed colorama-0.4.4 colorlog-4.7.2 recbole-1.2.0 texttable-1.7.0 thop-0.1.1.post2209072238\n"
          ]
        }
      ],
      "source": [
        "pip install recbole"
      ]
    },
    {
      "cell_type": "code",
      "execution_count": 3,
      "metadata": {
        "colab": {
          "base_uri": "https://localhost:8080/"
        },
        "id": "WazIQCrkf2GJ",
        "outputId": "fef6c23b-3fe9-4bec-c12e-906c45aa30cf"
      },
      "outputs": [
        {
          "output_type": "stream",
          "name": "stdout",
          "text": [
            "Collecting ray==1.13.0\n",
            "  Downloading ray-1.13.0-cp310-cp310-manylinux2014_x86_64.whl.metadata (20 kB)\n",
            "Requirement already satisfied: attrs in /usr/local/lib/python3.10/dist-packages (from ray==1.13.0) (24.2.0)\n",
            "Collecting click<=8.0.4,>=7.0 (from ray==1.13.0)\n",
            "  Downloading click-8.0.4-py3-none-any.whl.metadata (3.2 kB)\n",
            "Requirement already satisfied: filelock in /usr/local/lib/python3.10/dist-packages (from ray==1.13.0) (3.16.1)\n",
            "Collecting grpcio<=1.43.0,>=1.28.1 (from ray==1.13.0)\n",
            "  Downloading grpcio-1.43.0-cp310-cp310-manylinux_2_17_x86_64.manylinux2014_x86_64.whl.metadata (4.0 kB)\n",
            "Requirement already satisfied: jsonschema in /usr/local/lib/python3.10/dist-packages (from ray==1.13.0) (4.23.0)\n",
            "Requirement already satisfied: msgpack<2.0.0,>=1.0.0 in /usr/local/lib/python3.10/dist-packages (from ray==1.13.0) (1.0.8)\n",
            "Requirement already satisfied: protobuf<4.0.0,>=3.15.3 in /usr/local/lib/python3.10/dist-packages (from ray==1.13.0) (3.20.3)\n",
            "Requirement already satisfied: pyyaml in /usr/local/lib/python3.10/dist-packages (from ray==1.13.0) (6.0.2)\n",
            "Requirement already satisfied: aiosignal in /usr/local/lib/python3.10/dist-packages (from ray==1.13.0) (1.3.1)\n",
            "Requirement already satisfied: frozenlist in /usr/local/lib/python3.10/dist-packages (from ray==1.13.0) (1.4.1)\n",
            "Requirement already satisfied: requests in /usr/local/lib/python3.10/dist-packages (from ray==1.13.0) (2.32.3)\n",
            "Collecting virtualenv (from ray==1.13.0)\n",
            "  Downloading virtualenv-20.26.5-py3-none-any.whl.metadata (4.5 kB)\n",
            "Requirement already satisfied: numpy>=1.19.3 in /usr/local/lib/python3.10/dist-packages (from ray==1.13.0) (1.26.4)\n",
            "Requirement already satisfied: six>=1.5.2 in /usr/local/lib/python3.10/dist-packages (from grpcio<=1.43.0,>=1.28.1->ray==1.13.0) (1.16.0)\n",
            "Requirement already satisfied: jsonschema-specifications>=2023.03.6 in /usr/local/lib/python3.10/dist-packages (from jsonschema->ray==1.13.0) (2023.12.1)\n",
            "Requirement already satisfied: referencing>=0.28.4 in /usr/local/lib/python3.10/dist-packages (from jsonschema->ray==1.13.0) (0.35.1)\n",
            "Requirement already satisfied: rpds-py>=0.7.1 in /usr/local/lib/python3.10/dist-packages (from jsonschema->ray==1.13.0) (0.20.0)\n",
            "Requirement already satisfied: charset-normalizer<4,>=2 in /usr/local/lib/python3.10/dist-packages (from requests->ray==1.13.0) (3.3.2)\n",
            "Requirement already satisfied: idna<4,>=2.5 in /usr/local/lib/python3.10/dist-packages (from requests->ray==1.13.0) (3.10)\n",
            "Requirement already satisfied: urllib3<3,>=1.21.1 in /usr/local/lib/python3.10/dist-packages (from requests->ray==1.13.0) (2.0.7)\n",
            "Requirement already satisfied: certifi>=2017.4.17 in /usr/local/lib/python3.10/dist-packages (from requests->ray==1.13.0) (2024.8.30)\n",
            "Collecting distlib<1,>=0.3.7 (from virtualenv->ray==1.13.0)\n",
            "  Downloading distlib-0.3.8-py2.py3-none-any.whl.metadata (5.1 kB)\n",
            "Requirement already satisfied: platformdirs<5,>=3.9.1 in /usr/local/lib/python3.10/dist-packages (from virtualenv->ray==1.13.0) (4.3.6)\n",
            "Downloading ray-1.13.0-cp310-cp310-manylinux2014_x86_64.whl (54.3 MB)\n",
            "\u001b[2K   \u001b[90m━━━━━━━━━━━━━━━━━━━━━━━━━━━━━━━━━━━━━━━━\u001b[0m \u001b[32m54.3/54.3 MB\u001b[0m \u001b[31m33.6 MB/s\u001b[0m eta \u001b[36m0:00:00\u001b[0m\n",
            "\u001b[?25hDownloading click-8.0.4-py3-none-any.whl (97 kB)\n",
            "\u001b[2K   \u001b[90m━━━━━━━━━━━━━━━━━━━━━━━━━━━━━━━━━━━━━━━━\u001b[0m \u001b[32m97.5/97.5 kB\u001b[0m \u001b[31m7.1 MB/s\u001b[0m eta \u001b[36m0:00:00\u001b[0m\n",
            "\u001b[?25hDownloading grpcio-1.43.0-cp310-cp310-manylinux_2_17_x86_64.manylinux2014_x86_64.whl (4.1 MB)\n",
            "\u001b[2K   \u001b[90m━━━━━━━━━━━━━━━━━━━━━━━━━━━━━━━━━━━━━━━━\u001b[0m \u001b[32m4.1/4.1 MB\u001b[0m \u001b[31m84.8 MB/s\u001b[0m eta \u001b[36m0:00:00\u001b[0m\n",
            "\u001b[?25hDownloading virtualenv-20.26.5-py3-none-any.whl (6.0 MB)\n",
            "\u001b[2K   \u001b[90m━━━━━━━━━━━━━━━━━━━━━━━━━━━━━━━━━━━━━━━━\u001b[0m \u001b[32m6.0/6.0 MB\u001b[0m \u001b[31m99.4 MB/s\u001b[0m eta \u001b[36m0:00:00\u001b[0m\n",
            "\u001b[?25hDownloading distlib-0.3.8-py2.py3-none-any.whl (468 kB)\n",
            "\u001b[2K   \u001b[90m━━━━━━━━━━━━━━━━━━━━━━━━━━━━━━━━━━━━━━━━\u001b[0m \u001b[32m468.9/468.9 kB\u001b[0m \u001b[31m32.0 MB/s\u001b[0m eta \u001b[36m0:00:00\u001b[0m\n",
            "\u001b[?25hInstalling collected packages: distlib, virtualenv, grpcio, click, ray\n",
            "  Attempting uninstall: grpcio\n",
            "    Found existing installation: grpcio 1.64.1\n",
            "    Uninstalling grpcio-1.64.1:\n",
            "      Successfully uninstalled grpcio-1.64.1\n",
            "  Attempting uninstall: click\n",
            "    Found existing installation: click 8.1.7\n",
            "    Uninstalling click-8.1.7:\n",
            "      Successfully uninstalled click-8.1.7\n",
            "\u001b[31mERROR: pip's dependency resolver does not currently take into account all the packages that are installed. This behaviour is the source of the following dependency conflicts.\n",
            "dask 2024.8.0 requires click>=8.1, but you have click 8.0.4 which is incompatible.\n",
            "google-cloud-pubsub 2.23.1 requires grpcio<2.0dev,>=1.51.3, but you have grpcio 1.43.0 which is incompatible.\n",
            "grpc-google-iam-v1 0.13.1 requires grpcio<2.0.0dev,>=1.44.0, but you have grpcio 1.43.0 which is incompatible.\n",
            "grpcio-status 1.48.2 requires grpcio>=1.48.2, but you have grpcio 1.43.0 which is incompatible.\n",
            "tensorboard 2.17.0 requires grpcio>=1.48.2, but you have grpcio 1.43.0 which is incompatible.\u001b[0m\u001b[31m\n",
            "\u001b[0mSuccessfully installed click-8.0.4 distlib-0.3.8 grpcio-1.43.0 ray-1.13.0 virtualenv-20.26.5\n"
          ]
        }
      ],
      "source": [
        "pip install ray==1.13.0"
      ]
    },
    {
      "cell_type": "code",
      "execution_count": 4,
      "metadata": {
        "id": "yerl1jWYf2ke"
      },
      "outputs": [],
      "source": [
        "from recbole.quick_start import run_recbole"
      ]
    },
    {
      "cell_type": "code",
      "source": [
        "pip install kmeans_pytorch"
      ],
      "metadata": {
        "colab": {
          "base_uri": "https://localhost:8080/"
        },
        "id": "bdq4lmEzv7Xh",
        "outputId": "4c403c41-cb22-4672-c104-0b69ff5a3d40"
      },
      "execution_count": 5,
      "outputs": [
        {
          "output_type": "stream",
          "name": "stdout",
          "text": [
            "Collecting kmeans_pytorch\n",
            "  Downloading kmeans_pytorch-0.3-py3-none-any.whl.metadata (1.6 kB)\n",
            "Downloading kmeans_pytorch-0.3-py3-none-any.whl (4.4 kB)\n",
            "Installing collected packages: kmeans_pytorch\n",
            "Successfully installed kmeans_pytorch-0.3\n"
          ]
        }
      ]
    },
    {
      "cell_type": "code",
      "execution_count": 7,
      "metadata": {
        "colab": {
          "base_uri": "https://localhost:8080/"
        },
        "id": "IvyrZqcrgmMy",
        "outputId": "3e1a8491-89c6-4cfc-f318-69558e84f40a"
      },
      "outputs": [
        {
          "output_type": "stream",
          "name": "stderr",
          "text": [
            "WARNING:root:command line args [-f /root/.local/share/jupyter/runtime/kernel-6bc30fef-e963-4903-afcf-51ab2b42a7cd.json] will not be used in RecBole\n",
            "Train     0:   0%|                                                          | 0/480 [00:00<?, ?it/s]/usr/local/lib/python3.10/dist-packages/recbole/trainer/trainer.py:235: FutureWarning: `torch.cuda.amp.GradScaler(args...)` is deprecated. Please use `torch.amp.GradScaler('cuda', args...)` instead.\n",
            "  scaler = amp.GradScaler(enabled=self.enable_scaler)\n",
            "Train     0: 100%|██████████████████████| 480/480 [05:22<00:00,  1.49it/s, GPU RAM: 10.98 G/14.75 G]\n",
            "Evaluate   : 100%|██████████████████████████| 2/2 [00:00<00:00,  2.35it/s, GPU RAM: 14.20 G/14.75 G]\n",
            "Train     1: 100%|██████████████████████| 480/480 [05:22<00:00,  1.49it/s, GPU RAM: 14.20 G/14.75 G]\n",
            "Evaluate   : 100%|██████████████████████████| 2/2 [00:00<00:00,  3.47it/s, GPU RAM: 14.20 G/14.75 G]\n",
            "Train     2: 100%|██████████████████████| 480/480 [05:22<00:00,  1.49it/s, GPU RAM: 14.20 G/14.75 G]\n",
            "Evaluate   : 100%|██████████████████████████| 2/2 [00:00<00:00,  3.46it/s, GPU RAM: 14.20 G/14.75 G]\n",
            "Train     3: 100%|██████████████████████| 480/480 [05:22<00:00,  1.49it/s, GPU RAM: 14.20 G/14.75 G]\n",
            "Evaluate   : 100%|██████████████████████████| 2/2 [00:00<00:00,  3.52it/s, GPU RAM: 14.20 G/14.75 G]\n",
            "Train     4: 100%|██████████████████████| 480/480 [05:22<00:00,  1.49it/s, GPU RAM: 14.20 G/14.75 G]\n",
            "Evaluate   : 100%|██████████████████████████| 2/2 [00:00<00:00,  3.49it/s, GPU RAM: 14.20 G/14.75 G]\n",
            "Train     5: 100%|██████████████████████| 480/480 [05:22<00:00,  1.49it/s, GPU RAM: 14.20 G/14.75 G]\n",
            "Evaluate   : 100%|██████████████████████████| 2/2 [00:00<00:00,  3.48it/s, GPU RAM: 14.20 G/14.75 G]\n",
            "Train     6: 100%|██████████████████████| 480/480 [05:22<00:00,  1.49it/s, GPU RAM: 14.20 G/14.75 G]\n",
            "Evaluate   : 100%|██████████████████████████| 2/2 [00:00<00:00,  3.52it/s, GPU RAM: 14.20 G/14.75 G]\n",
            "Train     7: 100%|██████████████████████| 480/480 [05:22<00:00,  1.49it/s, GPU RAM: 14.20 G/14.75 G]\n",
            "Evaluate   : 100%|██████████████████████████| 2/2 [00:00<00:00,  3.49it/s, GPU RAM: 14.20 G/14.75 G]\n",
            "Train     8: 100%|██████████████████████| 480/480 [05:22<00:00,  1.49it/s, GPU RAM: 14.20 G/14.75 G]\n",
            "Evaluate   : 100%|██████████████████████████| 2/2 [00:00<00:00,  3.49it/s, GPU RAM: 14.20 G/14.75 G]\n",
            "Train     9: 100%|██████████████████████| 480/480 [05:22<00:00,  1.49it/s, GPU RAM: 14.20 G/14.75 G]\n",
            "Evaluate   : 100%|██████████████████████████| 2/2 [00:00<00:00,  3.46it/s, GPU RAM: 14.20 G/14.75 G]\n",
            "Train    10: 100%|██████████████████████| 480/480 [05:22<00:00,  1.49it/s, GPU RAM: 14.20 G/14.75 G]\n",
            "Evaluate   : 100%|██████████████████████████| 2/2 [00:00<00:00,  3.47it/s, GPU RAM: 14.20 G/14.75 G]\n",
            "Train    11: 100%|██████████████████████| 480/480 [05:22<00:00,  1.49it/s, GPU RAM: 14.20 G/14.75 G]\n",
            "Evaluate   : 100%|██████████████████████████| 2/2 [00:00<00:00,  3.50it/s, GPU RAM: 14.20 G/14.75 G]\n",
            "Train    12: 100%|██████████████████████| 480/480 [05:22<00:00,  1.49it/s, GPU RAM: 14.20 G/14.75 G]\n",
            "Evaluate   : 100%|██████████████████████████| 2/2 [00:00<00:00,  3.47it/s, GPU RAM: 14.20 G/14.75 G]\n",
            "Train    13: 100%|██████████████████████| 480/480 [05:22<00:00,  1.49it/s, GPU RAM: 14.20 G/14.75 G]\n",
            "Evaluate   : 100%|██████████████████████████| 2/2 [00:00<00:00,  3.52it/s, GPU RAM: 14.20 G/14.75 G]\n",
            "Train    14: 100%|██████████████████████| 480/480 [05:22<00:00,  1.49it/s, GPU RAM: 14.20 G/14.75 G]\n",
            "Evaluate   : 100%|██████████████████████████| 2/2 [00:00<00:00,  3.48it/s, GPU RAM: 14.20 G/14.75 G]\n",
            "Train    15: 100%|██████████████████████| 480/480 [05:22<00:00,  1.49it/s, GPU RAM: 14.20 G/14.75 G]\n",
            "Evaluate   : 100%|██████████████████████████| 2/2 [00:00<00:00,  3.47it/s, GPU RAM: 14.20 G/14.75 G]\n",
            "Train    16: 100%|██████████████████████| 480/480 [05:22<00:00,  1.49it/s, GPU RAM: 14.20 G/14.75 G]\n",
            "Evaluate   : 100%|██████████████████████████| 2/2 [00:00<00:00,  3.52it/s, GPU RAM: 14.20 G/14.75 G]\n",
            "Train    17: 100%|██████████████████████| 480/480 [05:22<00:00,  1.49it/s, GPU RAM: 14.20 G/14.75 G]\n",
            "Evaluate   : 100%|██████████████████████████| 2/2 [00:00<00:00,  3.47it/s, GPU RAM: 14.20 G/14.75 G]\n",
            "Train    18: 100%|██████████████████████| 480/480 [05:22<00:00,  1.49it/s, GPU RAM: 14.20 G/14.75 G]\n",
            "Evaluate   : 100%|██████████████████████████| 2/2 [00:00<00:00,  3.52it/s, GPU RAM: 14.20 G/14.75 G]\n",
            "Train    19: 100%|██████████████████████| 480/480 [05:22<00:00,  1.49it/s, GPU RAM: 14.20 G/14.75 G]\n",
            "Evaluate   : 100%|██████████████████████████| 2/2 [00:00<00:00,  3.48it/s, GPU RAM: 14.20 G/14.75 G]\n",
            "Train    20: 100%|██████████████████████| 480/480 [05:22<00:00,  1.49it/s, GPU RAM: 14.20 G/14.75 G]\n",
            "Evaluate   : 100%|██████████████████████████| 2/2 [00:00<00:00,  3.51it/s, GPU RAM: 14.20 G/14.75 G]\n",
            "Train    21: 100%|██████████████████████| 480/480 [05:22<00:00,  1.49it/s, GPU RAM: 14.20 G/14.75 G]\n",
            "Evaluate   : 100%|██████████████████████████| 2/2 [00:00<00:00,  3.50it/s, GPU RAM: 14.20 G/14.75 G]\n",
            "Train    22: 100%|██████████████████████| 480/480 [05:22<00:00,  1.49it/s, GPU RAM: 14.20 G/14.75 G]\n",
            "Evaluate   : 100%|██████████████████████████| 2/2 [00:00<00:00,  3.49it/s, GPU RAM: 14.20 G/14.75 G]\n",
            "Train    23: 100%|██████████████████████| 480/480 [05:22<00:00,  1.49it/s, GPU RAM: 14.20 G/14.75 G]\n",
            "Evaluate   : 100%|██████████████████████████| 2/2 [00:00<00:00,  3.54it/s, GPU RAM: 14.20 G/14.75 G]\n",
            "Train    24: 100%|██████████████████████| 480/480 [05:22<00:00,  1.49it/s, GPU RAM: 14.20 G/14.75 G]\n",
            "Evaluate   : 100%|██████████████████████████| 2/2 [00:00<00:00,  3.52it/s, GPU RAM: 14.20 G/14.75 G]\n",
            "Train    25: 100%|██████████████████████| 480/480 [05:22<00:00,  1.49it/s, GPU RAM: 14.20 G/14.75 G]\n",
            "Evaluate   : 100%|██████████████████████████| 2/2 [00:00<00:00,  3.52it/s, GPU RAM: 14.20 G/14.75 G]\n",
            "Train    26: 100%|██████████████████████| 480/480 [05:22<00:00,  1.49it/s, GPU RAM: 14.20 G/14.75 G]\n",
            "Evaluate   : 100%|██████████████████████████| 2/2 [00:00<00:00,  3.49it/s, GPU RAM: 14.20 G/14.75 G]\n",
            "Train    27: 100%|██████████████████████| 480/480 [05:22<00:00,  1.49it/s, GPU RAM: 14.20 G/14.75 G]\n",
            "Evaluate   : 100%|██████████████████████████| 2/2 [00:00<00:00,  3.50it/s, GPU RAM: 14.20 G/14.75 G]\n",
            "Train    28: 100%|██████████████████████| 480/480 [05:22<00:00,  1.49it/s, GPU RAM: 14.20 G/14.75 G]\n",
            "Evaluate   : 100%|██████████████████████████| 2/2 [00:00<00:00,  3.51it/s, GPU RAM: 14.20 G/14.75 G]\n",
            "Train    29: 100%|██████████████████████| 480/480 [05:22<00:00,  1.49it/s, GPU RAM: 14.20 G/14.75 G]\n",
            "Evaluate   : 100%|██████████████████████████| 2/2 [00:00<00:00,  3.52it/s, GPU RAM: 14.20 G/14.75 G]\n",
            "Train    30: 100%|██████████████████████| 480/480 [05:22<00:00,  1.49it/s, GPU RAM: 14.20 G/14.75 G]\n",
            "Evaluate   : 100%|██████████████████████████| 2/2 [00:00<00:00,  3.51it/s, GPU RAM: 14.20 G/14.75 G]\n",
            "Train    31: 100%|██████████████████████| 480/480 [05:22<00:00,  1.49it/s, GPU RAM: 14.20 G/14.75 G]\n",
            "Evaluate   : 100%|██████████████████████████| 2/2 [00:00<00:00,  3.51it/s, GPU RAM: 14.20 G/14.75 G]\n",
            "Train    32: 100%|██████████████████████| 480/480 [05:22<00:00,  1.49it/s, GPU RAM: 14.20 G/14.75 G]\n",
            "Evaluate   : 100%|██████████████████████████| 2/2 [00:00<00:00,  3.47it/s, GPU RAM: 14.20 G/14.75 G]\n",
            "Train    33: 100%|██████████████████████| 480/480 [05:22<00:00,  1.49it/s, GPU RAM: 14.20 G/14.75 G]\n",
            "Evaluate   : 100%|██████████████████████████| 2/2 [00:00<00:00,  3.52it/s, GPU RAM: 14.20 G/14.75 G]\n",
            "Train    34: 100%|██████████████████████| 480/480 [05:22<00:00,  1.49it/s, GPU RAM: 14.20 G/14.75 G]\n",
            "Evaluate   : 100%|██████████████████████████| 2/2 [00:00<00:00,  3.49it/s, GPU RAM: 14.20 G/14.75 G]\n",
            "Train    35: 100%|██████████████████████| 480/480 [05:22<00:00,  1.49it/s, GPU RAM: 14.20 G/14.75 G]\n",
            "Evaluate   : 100%|██████████████████████████| 2/2 [00:00<00:00,  3.48it/s, GPU RAM: 14.20 G/14.75 G]\n",
            "Train    36: 100%|██████████████████████| 480/480 [05:22<00:00,  1.49it/s, GPU RAM: 14.20 G/14.75 G]\n",
            "Evaluate   : 100%|██████████████████████████| 2/2 [00:00<00:00,  3.49it/s, GPU RAM: 14.20 G/14.75 G]\n",
            "Train    37: 100%|██████████████████████| 480/480 [05:22<00:00,  1.49it/s, GPU RAM: 14.20 G/14.75 G]\n",
            "Evaluate   : 100%|██████████████████████████| 2/2 [00:00<00:00,  3.51it/s, GPU RAM: 14.20 G/14.75 G]\n",
            "Train    38: 100%|██████████████████████| 480/480 [05:22<00:00,  1.49it/s, GPU RAM: 14.20 G/14.75 G]\n",
            "Evaluate   : 100%|██████████████████████████| 2/2 [00:00<00:00,  3.48it/s, GPU RAM: 14.20 G/14.75 G]\n",
            "Train    39: 100%|██████████████████████| 480/480 [05:22<00:00,  1.49it/s, GPU RAM: 14.20 G/14.75 G]\n",
            "Evaluate   : 100%|██████████████████████████| 2/2 [00:00<00:00,  3.50it/s, GPU RAM: 14.20 G/14.75 G]\n",
            "Train    40: 100%|██████████████████████| 480/480 [05:22<00:00,  1.49it/s, GPU RAM: 14.20 G/14.75 G]\n",
            "Evaluate   : 100%|██████████████████████████| 2/2 [00:00<00:00,  3.51it/s, GPU RAM: 14.20 G/14.75 G]\n",
            "Train    41: 100%|██████████████████████| 480/480 [05:22<00:00,  1.49it/s, GPU RAM: 14.20 G/14.75 G]\n",
            "Evaluate   : 100%|██████████████████████████| 2/2 [00:00<00:00,  3.46it/s, GPU RAM: 14.20 G/14.75 G]\n",
            "Train    42: 100%|██████████████████████| 480/480 [05:22<00:00,  1.49it/s, GPU RAM: 14.20 G/14.75 G]\n",
            "Evaluate   : 100%|██████████████████████████| 2/2 [00:00<00:00,  3.46it/s, GPU RAM: 14.20 G/14.75 G]\n",
            "Train    43: 100%|██████████████████████| 480/480 [05:22<00:00,  1.49it/s, GPU RAM: 14.20 G/14.75 G]\n",
            "Evaluate   : 100%|██████████████████████████| 2/2 [00:00<00:00,  3.47it/s, GPU RAM: 14.20 G/14.75 G]\n",
            "Train    44: 100%|██████████████████████| 480/480 [05:22<00:00,  1.49it/s, GPU RAM: 14.20 G/14.75 G]\n",
            "Evaluate   : 100%|██████████████████████████| 2/2 [00:00<00:00,  3.51it/s, GPU RAM: 14.20 G/14.75 G]\n",
            "Train    45: 100%|██████████████████████| 480/480 [05:22<00:00,  1.49it/s, GPU RAM: 14.20 G/14.75 G]\n",
            "Evaluate   : 100%|██████████████████████████| 2/2 [00:00<00:00,  3.52it/s, GPU RAM: 14.20 G/14.75 G]\n",
            "Train    46: 100%|██████████████████████| 480/480 [05:22<00:00,  1.49it/s, GPU RAM: 14.20 G/14.75 G]\n",
            "Evaluate   : 100%|██████████████████████████| 2/2 [00:00<00:00,  3.45it/s, GPU RAM: 14.20 G/14.75 G]\n",
            "Train    47: 100%|██████████████████████| 480/480 [05:22<00:00,  1.49it/s, GPU RAM: 14.20 G/14.75 G]\n",
            "Evaluate   : 100%|██████████████████████████| 2/2 [00:00<00:00,  3.50it/s, GPU RAM: 14.20 G/14.75 G]\n",
            "Train    48: 100%|██████████████████████| 480/480 [05:22<00:00,  1.49it/s, GPU RAM: 14.20 G/14.75 G]\n",
            "Evaluate   : 100%|██████████████████████████| 2/2 [00:00<00:00,  3.52it/s, GPU RAM: 14.20 G/14.75 G]\n",
            "Train    49: 100%|██████████████████████| 480/480 [05:22<00:00,  1.49it/s, GPU RAM: 14.20 G/14.75 G]\n",
            "Evaluate   : 100%|██████████████████████████| 2/2 [00:00<00:00,  3.52it/s, GPU RAM: 14.20 G/14.75 G]\n",
            "Train    50: 100%|██████████████████████| 480/480 [05:22<00:00,  1.49it/s, GPU RAM: 14.20 G/14.75 G]\n",
            "Evaluate   : 100%|██████████████████████████| 2/2 [00:00<00:00,  3.49it/s, GPU RAM: 14.20 G/14.75 G]\n",
            "Train    51: 100%|██████████████████████| 480/480 [05:22<00:00,  1.49it/s, GPU RAM: 14.20 G/14.75 G]\n",
            "Evaluate   : 100%|██████████████████████████| 2/2 [00:00<00:00,  3.49it/s, GPU RAM: 14.20 G/14.75 G]\n",
            "Train    52: 100%|██████████████████████| 480/480 [05:22<00:00,  1.49it/s, GPU RAM: 14.20 G/14.75 G]\n",
            "Evaluate   : 100%|██████████████████████████| 2/2 [00:00<00:00,  3.55it/s, GPU RAM: 14.20 G/14.75 G]\n",
            "Train    53: 100%|██████████████████████| 480/480 [05:22<00:00,  1.49it/s, GPU RAM: 14.20 G/14.75 G]\n",
            "Evaluate   : 100%|██████████████████████████| 2/2 [00:00<00:00,  3.53it/s, GPU RAM: 14.20 G/14.75 G]\n",
            "Train    54: 100%|██████████████████████| 480/480 [05:22<00:00,  1.49it/s, GPU RAM: 14.20 G/14.75 G]\n",
            "Evaluate   : 100%|██████████████████████████| 2/2 [00:00<00:00,  3.48it/s, GPU RAM: 14.20 G/14.75 G]\n",
            "Train    55: 100%|██████████████████████| 480/480 [05:22<00:00,  1.49it/s, GPU RAM: 14.20 G/14.75 G]\n",
            "Evaluate   : 100%|██████████████████████████| 2/2 [00:00<00:00,  3.52it/s, GPU RAM: 14.20 G/14.75 G]\n",
            "Train    56: 100%|██████████████████████| 480/480 [05:22<00:00,  1.49it/s, GPU RAM: 14.20 G/14.75 G]\n",
            "Evaluate   : 100%|██████████████████████████| 2/2 [00:00<00:00,  3.51it/s, GPU RAM: 14.20 G/14.75 G]\n",
            "Train    57: 100%|██████████████████████| 480/480 [05:22<00:00,  1.49it/s, GPU RAM: 14.20 G/14.75 G]\n",
            "Evaluate   : 100%|██████████████████████████| 2/2 [00:00<00:00,  3.52it/s, GPU RAM: 14.20 G/14.75 G]\n",
            "Train    58: 100%|██████████████████████| 480/480 [05:22<00:00,  1.49it/s, GPU RAM: 14.20 G/14.75 G]\n",
            "Evaluate   : 100%|██████████████████████████| 2/2 [00:00<00:00,  3.52it/s, GPU RAM: 14.20 G/14.75 G]\n",
            "Train    59: 100%|██████████████████████| 480/480 [05:22<00:00,  1.49it/s, GPU RAM: 14.20 G/14.75 G]\n",
            "Evaluate   : 100%|██████████████████████████| 2/2 [00:00<00:00,  3.49it/s, GPU RAM: 14.20 G/14.75 G]\n",
            "Train    60: 100%|██████████████████████| 480/480 [05:22<00:00,  1.49it/s, GPU RAM: 14.20 G/14.75 G]\n",
            "Evaluate   : 100%|██████████████████████████| 2/2 [00:00<00:00,  3.53it/s, GPU RAM: 14.20 G/14.75 G]\n",
            "Train    61: 100%|██████████████████████| 480/480 [05:22<00:00,  1.49it/s, GPU RAM: 14.20 G/14.75 G]\n",
            "Evaluate   : 100%|██████████████████████████| 2/2 [00:00<00:00,  3.52it/s, GPU RAM: 14.20 G/14.75 G]\n",
            "Train    62: 100%|██████████████████████| 480/480 [05:22<00:00,  1.49it/s, GPU RAM: 14.20 G/14.75 G]\n",
            "Evaluate   : 100%|██████████████████████████| 2/2 [00:00<00:00,  3.52it/s, GPU RAM: 14.20 G/14.75 G]\n",
            "Train    63: 100%|██████████████████████| 480/480 [05:22<00:00,  1.49it/s, GPU RAM: 14.20 G/14.75 G]\n",
            "Evaluate   : 100%|██████████████████████████| 2/2 [00:00<00:00,  3.50it/s, GPU RAM: 14.20 G/14.75 G]\n",
            "Train    64: 100%|██████████████████████| 480/480 [05:22<00:00,  1.49it/s, GPU RAM: 14.20 G/14.75 G]\n",
            "Evaluate   : 100%|██████████████████████████| 2/2 [00:00<00:00,  3.53it/s, GPU RAM: 14.20 G/14.75 G]\n",
            "Train    65: 100%|██████████████████████| 480/480 [05:22<00:00,  1.49it/s, GPU RAM: 14.20 G/14.75 G]\n",
            "Evaluate   : 100%|██████████████████████████| 2/2 [00:00<00:00,  3.52it/s, GPU RAM: 14.20 G/14.75 G]\n",
            "Train    66: 100%|██████████████████████| 480/480 [05:22<00:00,  1.49it/s, GPU RAM: 14.20 G/14.75 G]\n",
            "Evaluate   : 100%|██████████████████████████| 2/2 [00:00<00:00,  3.47it/s, GPU RAM: 14.20 G/14.75 G]\n",
            "Train    67: 100%|██████████████████████| 480/480 [05:22<00:00,  1.49it/s, GPU RAM: 14.20 G/14.75 G]\n",
            "Evaluate   : 100%|██████████████████████████| 2/2 [00:00<00:00,  3.49it/s, GPU RAM: 14.20 G/14.75 G]\n",
            "Train    68: 100%|██████████████████████| 480/480 [05:22<00:00,  1.49it/s, GPU RAM: 14.20 G/14.75 G]\n",
            "Evaluate   : 100%|██████████████████████████| 2/2 [00:00<00:00,  3.50it/s, GPU RAM: 14.20 G/14.75 G]\n",
            "Train    69: 100%|██████████████████████| 480/480 [05:22<00:00,  1.49it/s, GPU RAM: 14.20 G/14.75 G]\n",
            "Evaluate   : 100%|██████████████████████████| 2/2 [00:00<00:00,  3.47it/s, GPU RAM: 14.20 G/14.75 G]\n",
            "Train    70: 100%|██████████████████████| 480/480 [05:22<00:00,  1.49it/s, GPU RAM: 14.20 G/14.75 G]\n",
            "Evaluate   : 100%|██████████████████████████| 2/2 [00:00<00:00,  3.50it/s, GPU RAM: 14.20 G/14.75 G]\n",
            "Train    71: 100%|██████████████████████| 480/480 [05:22<00:00,  1.49it/s, GPU RAM: 14.20 G/14.75 G]\n",
            "Evaluate   : 100%|██████████████████████████| 2/2 [00:00<00:00,  3.51it/s, GPU RAM: 14.20 G/14.75 G]\n",
            "Train    72: 100%|██████████████████████| 480/480 [05:22<00:00,  1.49it/s, GPU RAM: 14.20 G/14.75 G]\n",
            "Evaluate   : 100%|██████████████████████████| 2/2 [00:00<00:00,  3.50it/s, GPU RAM: 14.20 G/14.75 G]\n",
            "Train    73: 100%|██████████████████████| 480/480 [05:23<00:00,  1.49it/s, GPU RAM: 14.20 G/14.75 G]\n",
            "Evaluate   : 100%|██████████████████████████| 2/2 [00:00<00:00,  3.52it/s, GPU RAM: 14.20 G/14.75 G]\n",
            "Train    74: 100%|██████████████████████| 480/480 [05:22<00:00,  1.49it/s, GPU RAM: 14.20 G/14.75 G]\n",
            "Evaluate   : 100%|██████████████████████████| 2/2 [00:00<00:00,  3.52it/s, GPU RAM: 14.20 G/14.75 G]\n",
            "Train    75: 100%|██████████████████████| 480/480 [05:22<00:00,  1.49it/s, GPU RAM: 14.20 G/14.75 G]\n",
            "Evaluate   : 100%|██████████████████████████| 2/2 [00:00<00:00,  3.49it/s, GPU RAM: 14.20 G/14.75 G]\n",
            "/usr/local/lib/python3.10/dist-packages/recbole/trainer/trainer.py:583: FutureWarning: You are using `torch.load` with `weights_only=False` (the current default value), which uses the default pickle module implicitly. It is possible to construct malicious pickle data which will execute arbitrary code during unpickling (See https://github.com/pytorch/pytorch/blob/main/SECURITY.md#untrusted-models for more details). In a future release, the default value for `weights_only` will be flipped to `True`. This limits the functions that could be executed during unpickling. Arbitrary objects will no longer be allowed to be loaded via this mode unless they are explicitly allowlisted by the user via `torch.serialization.add_safe_globals`. We recommend you start setting `weights_only=True` for any use case where you don't have full control of the loaded file. Please open an issue on GitHub for any issues related to this experimental feature.\n",
            "  checkpoint = torch.load(checkpoint_file, map_location=self.device)\n",
            "Evaluate   : 100%|██████████████████████████| 2/2 [00:00<00:00,  3.48it/s, GPU RAM: 14.20 G/14.75 G]\n"
          ]
        },
        {
          "output_type": "execute_result",
          "data": {
            "text/plain": [
              "{'best_valid_score': 0.0842,\n",
              " 'valid_score_bigger': True,\n",
              " 'best_valid_result': OrderedDict([('recall@10', 0.2348),\n",
              "              ('mrr@10', 0.0842),\n",
              "              ('ndcg@10', 0.1193),\n",
              "              ('hit@10', 0.2348),\n",
              "              ('precision@10', 0.0235)]),\n",
              " 'test_result': OrderedDict([('recall@10', 0.2195),\n",
              "              ('mrr@10', 0.0796),\n",
              "              ('ndcg@10', 0.1122),\n",
              "              ('hit@10', 0.2195),\n",
              "              ('precision@10', 0.022)])}"
            ]
          },
          "metadata": {},
          "execution_count": 7
        }
      ],
      "source": [
        "parameter_dict = {\n",
        "   'train_neg_sample_args': None,\n",
        "}\n",
        "run_recbole(model='SASRec', dataset='ml-1m',config_file_list=['/content/LinRec/ml-1m.yaml'],config_dict=parameter_dict)"
      ]
    },
    {
      "cell_type": "code",
      "execution_count": 1,
      "metadata": {
        "id": "WYhGVgl_f25C"
      },
      "outputs": [],
      "source": [
        "\n"
      ]
    },
    {
      "cell_type": "code",
      "execution_count": null,
      "metadata": {
        "id": "AGEozoAFgk0Z"
      },
      "outputs": [],
      "source": []
    }
  ],
  "metadata": {
    "accelerator": "GPU",
    "colab": {
      "gpuType": "T4",
      "provenance": [],
      "machine_shape": "hm",
      "authorship_tag": "ABX9TyMVTvm8laBoemw9ILIRPorX",
      "include_colab_link": true
    },
    "kernelspec": {
      "display_name": "Python 3",
      "name": "python3"
    },
    "language_info": {
      "name": "python"
    }
  },
  "nbformat": 4,
  "nbformat_minor": 0
}